{
 "cells": [
  {
   "cell_type": "code",
   "execution_count": 1,
   "metadata": {},
   "outputs": [],
   "source": [
    "from ctypes import *\n",
    "import time"
   ]
  },
  {
   "cell_type": "code",
   "execution_count": 15,
   "metadata": {},
   "outputs": [],
   "source": [
    "dledi = CDLL(\"SDK/NikonDlediDriver.dll\")"
   ]
  },
  {
   "cell_type": "code",
   "execution_count": 16,
   "metadata": {},
   "outputs": [],
   "source": [
    "uiDeviceCount = create_string_buffer(1)\n",
    "ppiDeviceTypeList = create_string_buffer(1)"
   ]
  },
  {
   "cell_type": "code",
   "execution_count": 17,
   "metadata": {},
   "outputs": [
    {
     "name": "stdout",
     "output_type": "stream",
     "text": [
      "Found 1 device(s)\n"
     ]
    }
   ],
   "source": [
    "dledi.DLEDI_GetDeviceList(uiDeviceCount, ppiDeviceTypeList)\n",
    "print(\"Found\", ord(uiDeviceCount.value), \"device(s)\")"
   ]
  },
  {
   "cell_type": "code",
   "execution_count": 18,
   "metadata": {},
   "outputs": [],
   "source": [
    "uiDeviceHandle = create_string_buffer(1)\n",
    "uiErrMsgMaxSize = create_string_buffer(1)\n",
    "pwszErrMsg = create_string_buffer(255)"
   ]
  },
  {
   "cell_type": "code",
   "execution_count": 19,
   "metadata": {},
   "outputs": [
    {
     "name": "stdout",
     "output_type": "stream",
     "text": [
      "connected to device\n"
     ]
    }
   ],
   "source": [
    "# connect to DLEDI, return 0 if success\n",
    "ret = dledi.DLEDI_Open(c_uint32(0), uiDeviceHandle, uiErrMsgMaxSize, pwszErrMsg)\n",
    "if ret==0 :\n",
    "    print(\"connected to device\")\n",
    "else:\n",
    "    print(\"fail to connect\")"
   ]
  },
  {
   "cell_type": "code",
   "execution_count": 20,
   "metadata": {},
   "outputs": [],
   "source": [
    "# uiDataUsageMask\n",
    "DLEDI_DATA_MASK_OFF = 0x0000000000000000\n",
    "DLEDI_DATA_MASK_FULL= 0xffffffffffffffff\n",
    "DLEDI_DATA_MASK_SWITCH_1 = 0x0000000000000001\n",
    "DLEDI_DATA_MASK_SWITCH_2 = 0x0000000000000002\n",
    "DLEDI_DATA_MASK_SWITCH_3 = 0x0000000000000004\n",
    "DLEDI_DATA_MASK_SWITCH_4 = 0x0000000000000008\n",
    "DLEDI_DATA_MASK_SWITCH = (DLEDI_DATA_MASK_SWITCH_1 | DLEDI_DATA_MASK_SWITCH_2 | DLEDI_DATA_MASK_SWITCH_3 | DLEDI_DATA_MASK_SWITCH_4)\n",
    "DLEDI_DATA_MASK_INTENSITY_1 = 0x0000000000000010\n",
    "DLEDI_DATA_MASK_INTENSITY_2 = 0x0000000000000020\n",
    "DLEDI_DATA_MASK_INTENSITY_3 = 0x0000000000000040\n",
    "DLEDI_DATA_MASK_INTENSITY_4 = 0x0000000000000080\n",
    "DLEDI_DATA_MASK_INTENSITY = (DLEDI_DATA_MASK_INTENSITY_1 | DLEDI_DATA_MASK_INTENSITY_2 | DLEDI_DATA_MASK_INTENSITY_3 | DLEDI_DATA_MASK_INTENSITY_4)"
   ]
  },
  {
   "cell_type": "code",
   "execution_count": 414,
   "metadata": {},
   "outputs": [],
   "source": [
    "DLEDI_LED_MAX = 4 \n",
    "class Switch(Structure):\n",
    "    _fields_ = [(\"Switch\", c_bool)]\n",
    "    \n",
    "class Intensity(Structure):\n",
    "    _fields_ = [(\"Intensity\", c_int32)]\n",
    "    \n",
    "class DLEDI_Data(Structure):\n",
    "    _fields_ = [(\"uiDataUsageMask\", c_uint64),\n",
    "              (\"bSwitch\", Switch * DLEDI_LED_MAX),\n",
    "              (\"iIntensity\", Intensity * DLEDI_LED_MAX)]"
   ]
  },
  {
   "cell_type": "code",
   "execution_count": 447,
   "metadata": {},
   "outputs": [
    {
     "name": "stdout",
     "output_type": "stream",
     "text": [
      "The LED intensity for each channel: 7,1,10,5,\n",
      "The LED status for each channel: False,False,False,True,"
     ]
    }
   ],
   "source": [
    "sData = DLEDI_Data()\n",
    "sData.uiDataUsageMask = DLEDI_DATA_MASK_SWITCH | DLEDI_DATA_MASK_INTENSITY\n",
    "dledi.DLEDI_DataGet(ord(uiDeviceHandle.value), byref(sData))\n",
    "print(\"The LED intensity for each channel: \", end=\"\")\n",
    "for i in range(0, DLEDI_LED_MAX):\n",
    "    print(sData.iIntensity[i].Intensity, end=\",\")\n",
    "print()\n",
    "print(\"The LED status for each channel: \", end=\"\")\n",
    "for i in range(0, DLEDI_LED_MAX):\n",
    "    print(sData.bSwitch[i].Switch, end=\",\")"
   ]
  },
  {
   "cell_type": "code",
   "execution_count": 456,
   "metadata": {},
   "outputs": [
    {
     "data": {
      "text/plain": [
       "0"
      ]
     },
     "execution_count": 456,
     "metadata": {},
     "output_type": "execute_result"
    }
   ],
   "source": [
    "# Set LED Intensity\n",
    "sData = DLEDI_Data()\n",
    "sDataOut = DLEDI_Data()\n",
    "sData.bSwitch[0].Switch = c_bool(False)\n",
    "sData.bSwitch[1].Switch = c_bool(True)\n",
    "sData.bSwitch[2].Switch = c_bool(False)\n",
    "sData.bSwitch[3].Switch = c_bool(False)\n",
    "sData.iIntensity[0].Intensity = 0\n",
    "sData.iIntensity[1].Intensity = 1\n",
    "sData.iIntensity[2].Intensity = 2\n",
    "sData.iIntensity[3].Intensity = 3\n",
    "sData.uiDataUsageMask = DLEDI_DATA_MASK_SWITCH | DLEDI_DATA_MASK_INTENSITY\n",
    "dledi.DLEDI_DataSet(ord(uiDeviceHandle.value), byref(sData), byref(sDataOut), c_bool(False))"
   ]
  },
  {
   "cell_type": "code",
   "execution_count": 630,
   "metadata": {},
   "outputs": [],
   "source": [
    "#Dedicated command\n",
    " \n",
    "# [OutParam   ] lx_wchar[10+1]\n",
    "DLEDI_DEDICATED_GET_SDK_VERSION = \"DLEDI_DEDICATED_GET_SDK_VERSION\"\n",
    "\n",
    "# [CommandData] lx_int32(0=Worker Data, 1=Intensity Table)\n",
    "DLEDI_DEDICATED_FACTORY_RESET = \"DLEDI_DEDICATED_FACTORY_RESET\"\n",
    "\n",
    "# [OutParam   ] bool(false=OFF, true=ON)\n",
    "DLEDI_DEDICATED_GET_REMOCON_DISPLAY = \"DLEDI_DEDICATED_GET_REMOCON_DISPLAY\"\n",
    "#[CommandData] bool(false=OFF, true=ON)\n",
    "DLEDI_DEDICATED_SET_REMOCON_DISPLAY = \"DLEDI_DEDICATED_SET_REMOCON_DISPLAY\"\n",
    "\n",
    "#[OutParam   ] lx_wchar[6+1]\n",
    "DLEDI_DEDICATED_GET_CPU_VERSION = \"DLEDI_DEDICATED_GET_CPU_VERSION\"\n",
    "#[OutParam   ] lx_wchar[4+1]\n",
    "DLEDI_DEDICATED_GET_CPU_CHECKSUM = \"DLEDI_DEDICATED_GET_CPU_CHECKSUM\"\n",
    "#[OutParam   ] lx_wchar[8+1]\n",
    "DLEDI_DEDICATED_GET_CPU_PROGRAM = \"DLEDI_DEDICATED_GET_CPU_PROGRAM\"\n",
    "\n",
    "#[OutParam   ] lx_int32(0=Sync, 1=Async, 2=Vis)\n",
    "DLEDI_DEDICATED_GET_MODE = \"DLEDI_DEDICATED_GET_MODE\"\n",
    "#[CommandData] lx_int32(0=Sync, 1=Async, 2=Vis)\n",
    "DLEDI_DEDICATED_SET_MODE = \"DLEDI_DEDICATED_SET_MODE\"\n",
    "\n",
    "# [OutParam   ] bool(false=Disable, true=Enable)\n",
    "DLEDI_DEDICATED_GET_TRIGGER_ENABLE  = \"DLEDI_DEDICATED_GET_TRIGGER_ENABLE\"\n",
    "#[CommandData] bool(false=Disable, true=Enable)\n",
    "DLEDI_DEDICATED_SET_TRIGGER_ENABLE = \"DLEDI_DEDICATED_SET_TRIGGER_ENABLE\"\n",
    "\n",
    "# [CommandData] lx_int32(Index:1->4) + lx_int32(Intensity:0->100)\n",
    "# [OutParam   ] lx_int32[10](DA:0->1000)\n",
    "DLEDI_DEDICATED_GET_DA_TABLE =  \"DLEDI_DEDICATED_GET_DA_TABLE\"\n",
    "# [CommandData] lx_int32(Index:1->4) + lx_int32(Intensity:0->100) + lx_int32[10](DA:0->1000)\n",
    "DLEDI_DEDICATED_SET_DA_TABLE = \"DLEDI_DEDICATED_SET_DA_TABLE\"\n",
    "\n",
    "#[CommandData] lx_wchar[15+1]\n",
    "DLEDI_DEDICATED_SET_REMOCON_TEXT = \"DLEDI_DEDICATED_SET_REMOCON_TEXT\"\n",
    "\n",
    "# [CommandData] bool[4](false=Stay, true=Reverse)\n",
    "DLEDI_DEDICATED_SET_SWITCH_RELATIVE = \"DLEDI_DEDICATED_SET_SWITCH_RELATIVE\"\n",
    "# [CommandData] lx_int32[4](-100->100)\n",
    "DLEDI_DEDICATED_SET_INTENSITY_RELATIVE = \"DLEDI_DEDICATED_SET_INTENSITY_RELATIVE\"\n",
    "\n",
    "# [OutParam   ] lx_uint32(DelayTime:0->1000msec)\n",
    "DLEDI_DEDICATED_GET_SWITCH_DELAY_TIME = \"DLEDI_DEDICATED_GET_SWITCH_DELAY_TIME\"\n",
    "# [CommandData] lx_uint32(DelayTime:0->1000msec)\n",
    "DLEDI_DEDICATED_SET_SWITCH_DELAY_TIME = \"DLEDI_DEDICATED_SET_SWITCH_DELAY_TIME\"\n",
    "\n",
    "# [OutParam   ] bool(false=Hide, true=Show)\n",
    "DLEDI_DEDICATED_GET_SHOW_SIMULATOR = \"DLEDI_DEDICATED_GET_SHOW_SIMULATOR\"\n",
    "# [CommandData] bool(false=Hide, true=Show)\n",
    "DLEDI_DEDICATED_SET_SHOW_SIMULATOR =  \"DLEDI_DEDICATED_SET_SHOW_SIMULATOR\"\n",
    "\n",
    "# [CommandData] lx_uchar8(Command Data without Footer)\n",
    "# [OutParam   ] lx_uchar8(Response Data without Footer)\n",
    "DLEDI_DEDICATED_DIRECT_REQUEST  = \"DLEDI_DEDICATED_DIRECT_REQUEST\""
   ]
  },
  {
   "cell_type": "code",
   "execution_count": 501,
   "metadata": {},
   "outputs": [],
   "source": [
    "class CommandChar(Structure):\n",
    "    _fields_ = [(\"Char\", c_wchar)]\n",
    "class DLEDI_Command(Structure):\n",
    "    _fields_ = [(\"wszCommandString\", CommandChar*256),\n",
    "                (\"pCommandData\", c_void_p)]"
   ]
  },
  {
   "cell_type": "code",
   "execution_count": 626,
   "metadata": {},
   "outputs": [
    {
     "data": {
      "text/plain": [
       "0"
      ]
     },
     "execution_count": 626,
     "metadata": {},
     "output_type": "execute_result"
    }
   ],
   "source": [
    "# Enable external trigger\n",
    "cmd = DLEDI_Command()\n",
    "cmd_string = DLEDI_DEDICATED_SET_TRIGGER_ENABLE\n",
    "for i in range(0, len(cmd_string)):\n",
    "    cmd.wszCommandString[i].Char = cmd_string[i]\n",
    "cmd.pCommandData = cast(pointer(c_bool(True)), c_void_p) # in order to avoid type dismatch\n",
    "pUserOutParam = c_bool()\n",
    "dledi.DLEDI_DedicatedCommand(ord(uiDeviceHandle.value), cmd, pUserOutParam)"
   ]
  },
  {
   "cell_type": "code",
   "execution_count": 627,
   "metadata": {},
   "outputs": [
    {
     "name": "stdout",
     "output_type": "stream",
     "text": [
      "c_bool(True)\n"
     ]
    }
   ],
   "source": [
    "# external trigger status\n",
    "cmd = DLEDI_Command()\n",
    "cmd_string = DLEDI_DEDICATED_GET_TRIGGER_ENABLE\n",
    "for i in range(0, len(cmd_string)):\n",
    "    cmd.wszCommandString[i].Char = cmd_string[i]\n",
    "pUserOutParam = c_bool()\n",
    "dledi.DLEDI_DedicatedCommand(ord(uiDeviceHandle.value), cmd, byref(pUserOutParam))\n",
    "print(pUserOutParam)"
   ]
  },
  {
   "cell_type": "code",
   "execution_count": 631,
   "metadata": {},
   "outputs": [
    {
     "name": "stdout",
     "output_type": "stream",
     "text": [
      "b'2\\x00.\\x000\\x00.\\x000\\x00.'\n"
     ]
    }
   ],
   "source": [
    "# Get SDK Version\n",
    "cmd = DLEDI_Command()\n",
    "pUserOutParam = create_string_buffer(10+1)\n",
    "cmd_string = DLEDI_DEDICATED_GET_SDK_VERSION\n",
    "for i in range(0, len(cmd_string)):\n",
    "    cmd.wszCommandString[i].Char = cmd_string[i]\n",
    "dledi.DLEDI_DedicatedCommand(ord(uiDeviceHandle.value), cmd, byref(pUserOutParam))\n",
    "print(pUserOutParam.raw)"
   ]
  },
  {
   "cell_type": "code",
   "execution_count": 182,
   "metadata": {},
   "outputs": [
    {
     "name": "stdout",
     "output_type": "stream",
     "text": [
      "closed device\n"
     ]
    }
   ],
   "source": [
    "# disconnect to DLEDI, return 0 if success\n",
    "ret = dledi.DLEDI_Close(ord(uiDeviceHandle.value))\n",
    "if ret==0 :\n",
    "    print(\"closed device\")\n",
    "else:\n",
    "    print(\"fail to close device\")"
   ]
  }
 ],
 "metadata": {
  "kernelspec": {
   "display_name": "Python 3 (ipykernel)",
   "language": "python",
   "name": "python3"
  },
  "language_info": {
   "codemirror_mode": {
    "name": "ipython",
    "version": 3
   },
   "file_extension": ".py",
   "mimetype": "text/x-python",
   "name": "python",
   "nbconvert_exporter": "python",
   "pygments_lexer": "ipython3",
   "version": "3.11.2"
  }
 },
 "nbformat": 4,
 "nbformat_minor": 2
}
